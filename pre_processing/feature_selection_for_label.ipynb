{
 "cells": [
  {
   "cell_type": "code",
   "execution_count": 2,
   "id": "f6f4ed54-8208-4b9c-8278-3948617af3c3",
   "metadata": {},
   "outputs": [],
   "source": [
    "import pandas as pd\n",
    "\n",
    "# Load your cleaned data\n",
    "df = pd.read_csv('final_label_encoded.csv')"
   ]
  },
  {
   "cell_type": "code",
   "execution_count": 3,
   "id": "e7745e4b-d039-47f3-8e4f-ad60cd0d62b0",
   "metadata": {},
   "outputs": [
    {
     "data": {
      "text/html": [
       "<div>\n",
       "<style scoped>\n",
       "    .dataframe tbody tr th:only-of-type {\n",
       "        vertical-align: middle;\n",
       "    }\n",
       "\n",
       "    .dataframe tbody tr th {\n",
       "        vertical-align: top;\n",
       "    }\n",
       "\n",
       "    .dataframe thead th {\n",
       "        text-align: right;\n",
       "    }\n",
       "</style>\n",
       "<table border=\"1\" class=\"dataframe\">\n",
       "  <thead>\n",
       "    <tr style=\"text-align: right;\">\n",
       "      <th></th>\n",
       "      <th>Kharif_Revenue</th>\n",
       "      <th>Rabi_Revenue</th>\n",
       "    </tr>\n",
       "  </thead>\n",
       "  <tbody>\n",
       "    <tr>\n",
       "      <th>0</th>\n",
       "      <td>3.944543e+08</td>\n",
       "      <td>2.793770e+05</td>\n",
       "    </tr>\n",
       "    <tr>\n",
       "      <th>1</th>\n",
       "      <td>3.488190e+09</td>\n",
       "      <td>2.120497e+05</td>\n",
       "    </tr>\n",
       "    <tr>\n",
       "      <th>2</th>\n",
       "      <td>9.633834e+06</td>\n",
       "      <td>7.202592e+07</td>\n",
       "    </tr>\n",
       "    <tr>\n",
       "      <th>3</th>\n",
       "      <td>1.470831e+06</td>\n",
       "      <td>6.694517e+07</td>\n",
       "    </tr>\n",
       "    <tr>\n",
       "      <th>4</th>\n",
       "      <td>4.244400e+04</td>\n",
       "      <td>4.967943e+08</td>\n",
       "    </tr>\n",
       "  </tbody>\n",
       "</table>\n",
       "</div>"
      ],
      "text/plain": [
       "   Kharif_Revenue  Rabi_Revenue\n",
       "0    3.944543e+08  2.793770e+05\n",
       "1    3.488190e+09  2.120497e+05\n",
       "2    9.633834e+06  7.202592e+07\n",
       "3    1.470831e+06  6.694517e+07\n",
       "4    4.244400e+04  4.967943e+08"
      ]
     },
     "execution_count": 3,
     "metadata": {},
     "output_type": "execute_result"
    }
   ],
   "source": [
    "# Calculate revenue for each season separately\n",
    "df['Kharif_Revenue'] = df['Kharif_Yield_(Tonne/Hectare)'] * df['Average_Market_Price'] * df['Kharif_Area_(Hectare)']\n",
    "df['Rabi_Revenue'] = df['Rabi_Yield_(Tonne/Hectare)'] * df['Average_Market_Price'] * df['Rabi_Area_(Hectare)']\n",
    "\n",
    "# Display first few rows to verify\n",
    "df[['Kharif_Revenue', 'Rabi_Revenue']].head()\n"
   ]
  },
  {
   "cell_type": "code",
   "execution_count": null,
   "id": "998b513a-b626-485b-85e1-51497b77e91f",
   "metadata": {},
   "outputs": [],
   "source": []
  }
 ],
 "metadata": {
  "kernelspec": {
   "display_name": "Python 3 (ipykernel)",
   "language": "python",
   "name": "python3"
  },
  "language_info": {
   "codemirror_mode": {
    "name": "ipython",
    "version": 3
   },
   "file_extension": ".py",
   "mimetype": "text/x-python",
   "name": "python",
   "nbconvert_exporter": "python",
   "pygments_lexer": "ipython3",
   "version": "3.12.8"
  }
 },
 "nbformat": 4,
 "nbformat_minor": 5
}
