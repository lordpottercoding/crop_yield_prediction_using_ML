{
 "cells": [
  {
   "cell_type": "code",
   "execution_count": 1,
   "id": "002012b1-d07a-4b55-b4f0-5a204fba0f16",
   "metadata": {},
   "outputs": [],
   "source": [
    "import pandas as pd\n",
    "\n",
    "# Load preprocessed files\n",
    "df = pd.read_csv(\"final_cleaned_data.csv\")\n",
    "X = pd.read_csv(\"final_input_features.csv\")\n",
    "y_kharif = pd.read_csv(\"target_kharif_yield.csv\")\n",
    "y_rabi = pd.read_csv(\"target_rabi_yield.csv\")\n",
    "y_price = pd.read_csv(\"target_market_price.csv\")\n"
   ]
  },
  {
   "cell_type": "code",
   "execution_count": 2,
   "id": "84512c04-6dae-4f50-a4ba-275db34426a3",
   "metadata": {},
   "outputs": [
    {
     "name": "stdout",
     "output_type": "stream",
     "text": [
      "✅ Data ready for CatBoost training.\n"
     ]
    }
   ],
   "source": [
    "from sklearn.model_selection import train_test_split\n",
    "\n",
    "datasets_cb = {}\n",
    "\n",
    "for target_name, y in zip(\n",
    "    ['Kharif_Yield', 'Rabi_Yield', 'Market_Price'],\n",
    "    [y_kharif, y_rabi, y_price]\n",
    "):\n",
    "    X_train, X_test, y_train, y_test = train_test_split(X, y, test_size=0.2, random_state=42)\n",
    "    datasets_cb[target_name] = {\n",
    "        'X_train': X_train, 'X_test': X_test,\n",
    "        'y_train': y_train, 'y_test': y_test\n",
    "    }\n",
    "\n",
    "print(\"✅ Data ready for CatBoost training.\")\n"
   ]
  },
  {
   "cell_type": "code",
   "execution_count": 3,
   "id": "4438c316-29c5-4776-a99f-c2d368e93186",
   "metadata": {},
   "outputs": [
    {
     "ename": "ModuleNotFoundError",
     "evalue": "No module named 'catboost'",
     "output_type": "error",
     "traceback": [
      "\u001b[1;31m---------------------------------------------------------------------------\u001b[0m",
      "\u001b[1;31mModuleNotFoundError\u001b[0m                       Traceback (most recent call last)",
      "Cell \u001b[1;32mIn[3], line 1\u001b[0m\n\u001b[1;32m----> 1\u001b[0m \u001b[38;5;28;01mfrom\u001b[39;00m\u001b[38;5;250m \u001b[39m\u001b[38;5;21;01mcatboost\u001b[39;00m\u001b[38;5;250m \u001b[39m\u001b[38;5;28;01mimport\u001b[39;00m CatBoostRegressor\n\u001b[0;32m      2\u001b[0m \u001b[38;5;28;01mfrom\u001b[39;00m\u001b[38;5;250m \u001b[39m\u001b[38;5;21;01msklearn\u001b[39;00m\u001b[38;5;21;01m.\u001b[39;00m\u001b[38;5;21;01mmetrics\u001b[39;00m\u001b[38;5;250m \u001b[39m\u001b[38;5;28;01mimport\u001b[39;00m mean_squared_error, r2_score\n\u001b[0;32m      3\u001b[0m \u001b[38;5;28;01mimport\u001b[39;00m\u001b[38;5;250m \u001b[39m\u001b[38;5;21;01mnumpy\u001b[39;00m\u001b[38;5;250m \u001b[39m\u001b[38;5;28;01mas\u001b[39;00m\u001b[38;5;250m \u001b[39m\u001b[38;5;21;01mnp\u001b[39;00m\n",
      "\u001b[1;31mModuleNotFoundError\u001b[0m: No module named 'catboost'"
     ]
    }
   ],
   "source": [
    "from catboost import CatBoostRegressor\n",
    "from sklearn.metrics import mean_squared_error, r2_score\n",
    "import numpy as np\n",
    "\n",
    "# Dictionary to store CatBoost models and results\n",
    "catboost_models = {}\n",
    "catboost_results = {}\n",
    "\n",
    "for target, data in datasets_cb.items():\n",
    "    print(f\"🔹 Training CatBoost model for: {target}\")\n",
    "\n",
    "    model = CatBoostRegressor(\n",
    "        iterations=1000,\n",
    "        learning_rate=0.05,\n",
    "        depth=6,\n",
    "        verbose=0,\n",
    "        random_state=42\n",
    "    )\n",
    "    model.fit(data['X_train'], data['y_train'])\n",
    "\n",
    "    # Make predictions\n",
    "    preds = model.predict(data['X_test'])\n",
    "    \n",
    "    # Evaluate\n",
    "    r2 = r2_score(data['y_test'], preds)\n",
    "    rmse = np.sqrt(mean_squared_error(data['y_test'], preds))\n",
    "\n",
    "    catboost_models[target] = model\n",
    "    catboost_results[target] = {'R2': r2, 'RMSE': rmse}\n",
    "\n",
    "    print(f\"✅ {target} — R² Score: {r2:.3f}, RMSE: {rmse:.3f}\")\n"
   ]
  },
  {
   "cell_type": "code",
   "execution_count": null,
   "id": "a94c8d8a-e3fd-4b17-9422-cc264bf87d21",
   "metadata": {},
   "outputs": [],
   "source": []
  }
 ],
 "metadata": {
  "kernelspec": {
   "display_name": "Python 3 (ipykernel)",
   "language": "python",
   "name": "python3"
  },
  "language_info": {
   "codemirror_mode": {
    "name": "ipython",
    "version": 3
   },
   "file_extension": ".py",
   "mimetype": "text/x-python",
   "name": "python",
   "nbconvert_exporter": "python",
   "pygments_lexer": "ipython3",
   "version": "3.12.8"
  }
 },
 "nbformat": 4,
 "nbformat_minor": 5
}
